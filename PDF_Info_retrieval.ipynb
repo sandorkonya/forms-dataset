{
 "cells": [
  {
   "cell_type": "code",
   "execution_count": null,
   "metadata": {},
   "outputs": [],
   "source": [
    "import requests\n",
    "import fitz\n",
    "import pandas as pd\n",
    "import numpy as np\n",
    "from multiprocessing.pool import ThreadPool\n",
    "from urllib.parse import quote"
   ]
  },
  {
   "cell_type": "code",
   "execution_count": null,
   "metadata": {},
   "outputs": [],
   "source": [
    "def get_pdfinfo(entry):\n",
    "    global timeout, maxlength\n",
    "    \n",
    "    #index and url from parquet\n",
    "    num, url = entry\n",
    "    error,doc_size,doc_numberofpages,doc_form, characters, links,images,words,blocks = 0,0,0,0,0,0,0,0,0\n",
    "    \n",
    "    try:\n",
    "        with requests.get(url, timeout=timeout) as r:\n",
    "            if r.status_code == 200:\n",
    "                doc_size = r.headers[\"Content-Length\"]\n",
    "                if ((r.headers[\"Content-Type\"] in [\"application/pdf\",\"stream/pdf\"]) & (int(r.headers[\"Content-Length\"]) < maxlength)):\n",
    "                    try:\n",
    "                        doc = fitz.open(stream=r.content, filetype=\"pdf\")\n",
    "                        #gets the number of pages in the pdf\n",
    "                        doc_numberofpages = len(doc)\n",
    "                        \n",
    "                        #0 if no form element, otherwise the number of form elements in the pdf\n",
    "                        doc_form = doc.is_form_pdf\n",
    "                        doc_form = 0 if not doc_form else doc_form\n",
    "                        \n",
    "                        #count together characters of readable text, links, images\n",
    "                        for page in doc:\n",
    "                            characters += len(page.get_text())\n",
    "                            links += len(page.get_links())\n",
    "                            images += len(page.get_images())\n",
    "                            blocks += len(page.get_textpage().extractBLOCKS())\n",
    "                            words += len(page.get_textpage().extractWORDS())\n",
    "\n",
    "                    except:\n",
    "                        error = \"OpenError\"\n",
    "                else:\n",
    "                    error = \"HeaderError\"\n",
    "            else:\n",
    "                error =  \"StatusCodeError\"\n",
    "    except:\n",
    "        error = \"Requesterror\"\n",
    "        \n",
    "    return [num, error, quote(url, safe='/:?&') ,doc_numberofpages, doc_form, doc_size, characters, links,images,blocks,words]"
   ]
  },
  {
   "cell_type": "code",
   "execution_count": null,
   "metadata": {
    "scrolled": false
   },
   "outputs": [],
   "source": [
    "# path to parquet file\n",
    "path = \"\"\n",
    "#df = pd.read_parquet(path, engine='pyarrow')\n",
    "df = pd.read_parquet(\"http://3080.rom1504.fr/text/text38M/part-00020-a218b5b3-185c-4eb1-956f-fd16cfabd04b-c000.snappy.parquet\", engine='pyarrow')\n",
    "\n",
    "urls = df[\"url\"].tolist()\n",
    "l = []\n",
    "for i,url in enumerate(urls):\n",
    "    a = i, url\n",
    "    l.append(a)  \n",
    "    \n",
    "## global settings for our request\n",
    "timeout = 3\n",
    "#max length in bytes of pdf we want to keep\n",
    "maxlength = 12000000\n",
    "\n",
    "#get the first X\n",
    "results = ThreadPool(64).imap_unordered(get_pdfinfo, l[:25])\n",
    "for info in results:\n",
    "    if info[1] == 0:\n",
    "        #[index of parquet, error, quote(url, safe='/:?&') ,doc_numberofpages, doc_form, doc_size, characters, links,images,wordblocks,words]\n",
    "        print(info)"
   ]
  },
  {
   "cell_type": "code",
   "execution_count": null,
   "metadata": {},
   "outputs": [],
   "source": []
  }
 ],
 "metadata": {
  "kernelspec": {
   "display_name": "Python 3",
   "language": "python",
   "name": "python3"
  },
  "language_info": {
   "codemirror_mode": {
    "name": "ipython",
    "version": 3
   },
   "file_extension": ".py",
   "mimetype": "text/x-python",
   "name": "python",
   "nbconvert_exporter": "python",
   "pygments_lexer": "ipython3",
   "version": "3.8.3"
  }
 },
 "nbformat": 4,
 "nbformat_minor": 4
}
